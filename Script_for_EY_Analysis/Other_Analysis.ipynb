{
 "cells": [
  {
   "cell_type": "code",
   "execution_count": 3,
   "metadata": {
    "colab": {
     "base_uri": "https://localhost:8080/"
    },
    "executionInfo": {
     "elapsed": 169046,
     "status": "ok",
     "timestamp": 1607276468119,
     "user": {
      "displayName": "Abhinav Choudhary",
      "photoUrl": "https://lh3.googleusercontent.com/a-/AOh14GglwleIvWu4YyPKI8x1XKLPRtBMdkVHXgpsn8KGrQ=s64",
      "userId": "00344939717675980850"
     },
     "user_tz": -330
    },
    "id": "_nRrjpI6Idnq",
    "outputId": "b8392a9d-e350-4468-b931-12f7617fb814"
   },
   "outputs": [
    {
     "name": "stdout",
     "output_type": "stream",
     "text": [
      "\u001b[38;5;2m✔ Download and installation successful\u001b[0m\n",
      "You can now load the model via spacy.load('en_core_web_lg')\n"
     ]
    }
   ],
   "source": [
    "import spacy.cli\n",
    "spacy.cli.download(\"en_core_web_lg\")"
   ]
  },
  {
   "cell_type": "code",
   "execution_count": 4,
   "metadata": {
    "executionInfo": {
     "elapsed": 1634,
     "status": "ok",
     "timestamp": 1607276474688,
     "user": {
      "displayName": "Abhinav Choudhary",
      "photoUrl": "https://lh3.googleusercontent.com/a-/AOh14GglwleIvWu4YyPKI8x1XKLPRtBMdkVHXgpsn8KGrQ=s64",
      "userId": "00344939717675980850"
     },
     "user_tz": -330
    },
    "id": "tA0eEjXVH5ck"
   },
   "outputs": [],
   "source": [
    "#import libraries\n",
    "import numpy as np\n",
    "import pandas as pd\n",
    "import nltk\n",
    "nltk.download('punkt')\n",
    "nltk.download('wordnet')\n",
    "from nltk import sent_tokenize, word_tokenize\n",
    "from nltk.stem.snowball import SnowballStemmer\n",
    "from nltk.stem.wordnet import WordNetLemmatizer\n",
    "from nltk.corpus import stopwords\n",
    "import pandas as pd\n",
    "import numpy as np\n",
    "import re  \n",
    "import spacy\n",
    "nlp = spacy.load('en_core_web_lg')"
   ]
  },
  {
   "cell_type": "code",
   "execution_count": 156,
   "metadata": {
    "executionInfo": {
     "elapsed": 1150,
     "status": "ok",
     "timestamp": 1607277533638,
     "user": {
      "displayName": "Abhinav Choudhary",
      "photoUrl": "https://lh3.googleusercontent.com/a-/AOh14GglwleIvWu4YyPKI8x1XKLPRtBMdkVHXgpsn8KGrQ=s64",
      "userId": "00344939717675980850"
     },
     "user_tz": -330
    },
    "id": "X-WAc2PHH5cl"
   },
   "outputs": [],
   "source": [
    "df=pd.read_excel(\"Sample Data1.xlsx\")\n",
    "#df.fillna(0,inplace=True)"
   ]
  },
  {
   "cell_type": "code",
   "execution_count": 8,
   "metadata": {
    "colab": {
     "base_uri": "https://localhost:8080/",
     "height": 227
    },
    "executionInfo": {
     "elapsed": 1258,
     "status": "ok",
     "timestamp": 1607276490318,
     "user": {
      "displayName": "Abhinav Choudhary",
      "photoUrl": "https://lh3.googleusercontent.com/a-/AOh14GglwleIvWu4YyPKI8x1XKLPRtBMdkVHXgpsn8KGrQ=s64",
      "userId": "00344939717675980850"
     },
     "user_tz": -330
    },
    "id": "Nb29m6pfH5cr",
    "outputId": "82d93bcc-6095-454c-f190-87188adc4edb"
   },
   "outputs": [
    {
     "data": {
      "text/html": [
       "<div>\n",
       "<style scoped>\n",
       "    .dataframe tbody tr th:only-of-type {\n",
       "        vertical-align: middle;\n",
       "    }\n",
       "\n",
       "    .dataframe tbody tr th {\n",
       "        vertical-align: top;\n",
       "    }\n",
       "\n",
       "    .dataframe thead th {\n",
       "        text-align: right;\n",
       "    }\n",
       "</style>\n",
       "<table border=\"1\" class=\"dataframe\">\n",
       "  <thead>\n",
       "    <tr style=\"text-align: right;\">\n",
       "      <th></th>\n",
       "      <th>Country</th>\n",
       "    </tr>\n",
       "  </thead>\n",
       "  <tbody>\n",
       "    <tr>\n",
       "      <th>United States</th>\n",
       "      <td>1116</td>\n",
       "    </tr>\n",
       "    <tr>\n",
       "      <th>United Kingdom</th>\n",
       "      <td>347</td>\n",
       "    </tr>\n",
       "    <tr>\n",
       "      <th>India</th>\n",
       "      <td>203</td>\n",
       "    </tr>\n",
       "    <tr>\n",
       "      <th>Spain</th>\n",
       "      <td>132</td>\n",
       "    </tr>\n",
       "    <tr>\n",
       "      <th>Canada</th>\n",
       "      <td>132</td>\n",
       "    </tr>\n",
       "    <tr>\n",
       "      <th>France</th>\n",
       "      <td>72</td>\n",
       "    </tr>\n",
       "  </tbody>\n",
       "</table>\n",
       "</div>"
      ],
      "text/plain": [
       "                Country\n",
       "United States      1116\n",
       "United Kingdom      347\n",
       "India               203\n",
       "Spain               132\n",
       "Canada              132\n",
       "France               72"
      ]
     },
     "execution_count": 8,
     "metadata": {
      "tags": []
     },
     "output_type": "execute_result"
    }
   ],
   "source": [
    "#Top Countries\n",
    "temp=df[\"Country\"].value_counts().to_frame()\n",
    "temp=temp.head(6)\n",
    "popCountries={\"United States\":1116,\"United Kingdom\":347,\"India\":203,\"Spain\":132,\"Canada\":132}\n",
    "temp\n"
   ]
  },
  {
   "cell_type": "code",
   "execution_count": 9,
   "metadata": {
    "colab": {
     "base_uri": "https://localhost:8080/",
     "height": 227
    },
    "executionInfo": {
     "elapsed": 972,
     "status": "ok",
     "timestamp": 1607276490799,
     "user": {
      "displayName": "Abhinav Choudhary",
      "photoUrl": "https://lh3.googleusercontent.com/a-/AOh14GglwleIvWu4YyPKI8x1XKLPRtBMdkVHXgpsn8KGrQ=s64",
      "userId": "00344939717675980850"
     },
     "user_tz": -330
    },
    "id": "hkSw2nZCH5cr",
    "outputId": "1b6cbe55-0130-4dfe-82d8-43ac6c5d8280"
   },
   "outputs": [
    {
     "data": {
      "text/html": [
       "<div>\n",
       "<style scoped>\n",
       "    .dataframe tbody tr th:only-of-type {\n",
       "        vertical-align: middle;\n",
       "    }\n",
       "\n",
       "    .dataframe tbody tr th {\n",
       "        vertical-align: top;\n",
       "    }\n",
       "\n",
       "    .dataframe thead th {\n",
       "        text-align: right;\n",
       "    }\n",
       "</style>\n",
       "<table border=\"1\" class=\"dataframe\">\n",
       "  <thead>\n",
       "    <tr style=\"text-align: right;\">\n",
       "      <th></th>\n",
       "      <th>City</th>\n",
       "    </tr>\n",
       "  </thead>\n",
       "  <tbody>\n",
       "    <tr>\n",
       "      <th>London</th>\n",
       "      <td>89</td>\n",
       "    </tr>\n",
       "    <tr>\n",
       "      <th>Paris</th>\n",
       "      <td>31</td>\n",
       "    </tr>\n",
       "    <tr>\n",
       "      <th>Chicago</th>\n",
       "      <td>28</td>\n",
       "    </tr>\n",
       "    <tr>\n",
       "      <th>Boston</th>\n",
       "      <td>23</td>\n",
       "    </tr>\n",
       "    <tr>\n",
       "      <th>San Francisco</th>\n",
       "      <td>20</td>\n",
       "    </tr>\n",
       "    <tr>\n",
       "      <th>Sydney</th>\n",
       "      <td>20</td>\n",
       "    </tr>\n",
       "  </tbody>\n",
       "</table>\n",
       "</div>"
      ],
      "text/plain": [
       "               City\n",
       "London           89\n",
       "Paris            31\n",
       "Chicago          28\n",
       "Boston           23\n",
       "San Francisco    20\n",
       "Sydney           20"
      ]
     },
     "execution_count": 9,
     "metadata": {
      "tags": []
     },
     "output_type": "execute_result"
    }
   ],
   "source": [
    "#Top cities\n",
    "temp=df[\"City\"].value_counts().to_frame()\n",
    "temp=temp.head(6)\n",
    "popCity={\"London\":89,\"Paris\":31,\"Chicago\":28,\"Boston\":23,\"San Francisco\":20}\n",
    "temp"
   ]
  },
  {
   "cell_type": "code",
   "execution_count": 13,
   "metadata": {
    "executionInfo": {
     "elapsed": 1084,
     "status": "ok",
     "timestamp": 1607276504188,
     "user": {
      "displayName": "Abhinav Choudhary",
      "photoUrl": "https://lh3.googleusercontent.com/a-/AOh14GglwleIvWu4YyPKI8x1XKLPRtBMdkVHXgpsn8KGrQ=s64",
      "userId": "00344939717675980850"
     },
     "user_tz": -330
    },
    "id": "QohXPR7vH5ct"
   },
   "outputs": [],
   "source": [
    "from datetime import datetime\n"
   ]
  },
  {
   "cell_type": "code",
   "execution_count": 14,
   "metadata": {
    "executionInfo": {
     "elapsed": 1823,
     "status": "ok",
     "timestamp": 1607276505287,
     "user": {
      "displayName": "Abhinav Choudhary",
      "photoUrl": "https://lh3.googleusercontent.com/a-/AOh14GglwleIvWu4YyPKI8x1XKLPRtBMdkVHXgpsn8KGrQ=s64",
      "userId": "00344939717675980850"
     },
     "user_tz": -330
    },
    "id": "c7A4Lc-AH5ct"
   },
   "outputs": [],
   "source": [
    "temp=pd.read_excel(\"Sample Data1.xlsx\")\n",
    "temp.fillna(0,inplace=True)\n",
    "temp=temp[temp[\"Retweets\"]!=0]\n",
    "temp\n",
    "import calendar\n",
    "time=[]\n",
    "week_day=[]\n",
    "for i in temp['CreatedTime']:\n",
    "    date_time_obj = i#datetime.strptime(i,'%Y-%m-%d %H:%M:%S')\n",
    "    week_day.append(calendar.day_name[date_time_obj.weekday()])\n",
    "    time.append(date_time_obj.time())\n",
    "    \n",
    "temp['time']=time\n",
    "temp['week_day']=week_day"
   ]
  },
  {
   "cell_type": "code",
   "execution_count": 15,
   "metadata": {
    "colab": {
     "base_uri": "https://localhost:8080/",
     "height": 257
    },
    "executionInfo": {
     "elapsed": 1310,
     "status": "ok",
     "timestamp": 1607276505290,
     "user": {
      "displayName": "Abhinav Choudhary",
      "photoUrl": "https://lh3.googleusercontent.com/a-/AOh14GglwleIvWu4YyPKI8x1XKLPRtBMdkVHXgpsn8KGrQ=s64",
      "userId": "00344939717675980850"
     },
     "user_tz": -330
    },
    "id": "DGBr4BhrH5ct",
    "outputId": "f8e066cc-91a7-4777-a737-e05600a82030"
   },
   "outputs": [
    {
     "data": {
      "text/html": [
       "<div>\n",
       "<style scoped>\n",
       "    .dataframe tbody tr th:only-of-type {\n",
       "        vertical-align: middle;\n",
       "    }\n",
       "\n",
       "    .dataframe tbody tr th {\n",
       "        vertical-align: top;\n",
       "    }\n",
       "\n",
       "    .dataframe thead th {\n",
       "        text-align: right;\n",
       "    }\n",
       "</style>\n",
       "<table border=\"1\" class=\"dataframe\">\n",
       "  <thead>\n",
       "    <tr style=\"text-align: right;\">\n",
       "      <th></th>\n",
       "      <th>Sender Followers Count</th>\n",
       "      <th>Retweets</th>\n",
       "    </tr>\n",
       "    <tr>\n",
       "      <th>week_day</th>\n",
       "      <th></th>\n",
       "      <th></th>\n",
       "    </tr>\n",
       "  </thead>\n",
       "  <tbody>\n",
       "    <tr>\n",
       "      <th>Friday</th>\n",
       "      <td>140571.375000</td>\n",
       "      <td>5.675000</td>\n",
       "    </tr>\n",
       "    <tr>\n",
       "      <th>Monday</th>\n",
       "      <td>62742.333333</td>\n",
       "      <td>2.456140</td>\n",
       "    </tr>\n",
       "    <tr>\n",
       "      <th>Sunday</th>\n",
       "      <td>50261.222222</td>\n",
       "      <td>3.222222</td>\n",
       "    </tr>\n",
       "    <tr>\n",
       "      <th>Thursday</th>\n",
       "      <td>114169.446429</td>\n",
       "      <td>4.803571</td>\n",
       "    </tr>\n",
       "    <tr>\n",
       "      <th>Tuesday</th>\n",
       "      <td>76876.895833</td>\n",
       "      <td>8.500000</td>\n",
       "    </tr>\n",
       "    <tr>\n",
       "      <th>Wednesday</th>\n",
       "      <td>74862.693548</td>\n",
       "      <td>3.661290</td>\n",
       "    </tr>\n",
       "  </tbody>\n",
       "</table>\n",
       "</div>"
      ],
      "text/plain": [
       "           Sender Followers Count  Retweets\n",
       "week_day                                   \n",
       "Friday              140571.375000  5.675000\n",
       "Monday               62742.333333  2.456140\n",
       "Sunday               50261.222222  3.222222\n",
       "Thursday            114169.446429  4.803571\n",
       "Tuesday              76876.895833  8.500000\n",
       "Wednesday            74862.693548  3.661290"
      ]
     },
     "execution_count": 15,
     "metadata": {
      "tags": []
     },
     "output_type": "execute_result"
    }
   ],
   "source": [
    "temp.groupby(\"week_day\").mean()"
   ]
  },
  {
   "cell_type": "code",
   "execution_count": 16,
   "metadata": {
    "executionInfo": {
     "elapsed": 1246,
     "status": "ok",
     "timestamp": 1607276507643,
     "user": {
      "displayName": "Abhinav Choudhary",
      "photoUrl": "https://lh3.googleusercontent.com/a-/AOh14GglwleIvWu4YyPKI8x1XKLPRtBMdkVHXgpsn8KGrQ=s64",
      "userId": "00344939717675980850"
     },
     "user_tz": -330
    },
    "id": "xNI-a3ssH5ct"
   },
   "outputs": [],
   "source": [
    "daypart=[]\n",
    "for i in temp.time:\n",
    "    if (i.hour)>=5 and i.hour<8:\n",
    "        daypart.append('Early Morning')\n",
    "    elif i.hour>=8 and i.hour<11:\n",
    "        daypart.append('Morning')\n",
    "    elif i.hour>=11 and i.hour<12:\n",
    "        daypart.append('Late Morning')\n",
    "    elif i.hour>=12 and i.hour<15:\n",
    "        daypart.append('Early Afternoon')\n",
    "    elif i.hour>=15 and i.hour<17:\n",
    "        daypart.append('Late Afternoon')\n",
    "    elif i.hour>=17 and i.hour<19:\n",
    "        daypart.append('Early Evening')\n",
    "    elif i.hour>=19 and i.hour<21:\n",
    "        daypart.append('Late Evening')\n",
    "    elif i.hour>=21 or i.hour<5:\n",
    "        daypart.append('Night')\n",
    "temp['day_part']=daypart"
   ]
  },
  {
   "cell_type": "code",
   "execution_count": 17,
   "metadata": {
    "colab": {
     "base_uri": "https://localhost:8080/",
     "height": 317
    },
    "executionInfo": {
     "elapsed": 2332,
     "status": "ok",
     "timestamp": 1607276511468,
     "user": {
      "displayName": "Abhinav Choudhary",
      "photoUrl": "https://lh3.googleusercontent.com/a-/AOh14GglwleIvWu4YyPKI8x1XKLPRtBMdkVHXgpsn8KGrQ=s64",
      "userId": "00344939717675980850"
     },
     "user_tz": -330
    },
    "id": "KCEMDrDpH5ct",
    "outputId": "6be85e0d-bcaf-4971-d3ba-a2cdf12ba439"
   },
   "outputs": [
    {
     "data": {
      "text/html": [
       "<div>\n",
       "<style scoped>\n",
       "    .dataframe tbody tr th:only-of-type {\n",
       "        vertical-align: middle;\n",
       "    }\n",
       "\n",
       "    .dataframe tbody tr th {\n",
       "        vertical-align: top;\n",
       "    }\n",
       "\n",
       "    .dataframe thead th {\n",
       "        text-align: right;\n",
       "    }\n",
       "</style>\n",
       "<table border=\"1\" class=\"dataframe\">\n",
       "  <thead>\n",
       "    <tr style=\"text-align: right;\">\n",
       "      <th></th>\n",
       "      <th>Sender Followers Count</th>\n",
       "      <th>Retweets</th>\n",
       "    </tr>\n",
       "    <tr>\n",
       "      <th>day_part</th>\n",
       "      <th></th>\n",
       "      <th></th>\n",
       "    </tr>\n",
       "  </thead>\n",
       "  <tbody>\n",
       "    <tr>\n",
       "      <th>Early Afternoon</th>\n",
       "      <td>58366.755556</td>\n",
       "      <td>2.688889</td>\n",
       "    </tr>\n",
       "    <tr>\n",
       "      <th>Early Evening</th>\n",
       "      <td>51966.594595</td>\n",
       "      <td>12.297297</td>\n",
       "    </tr>\n",
       "    <tr>\n",
       "      <th>Early Morning</th>\n",
       "      <td>144968.657895</td>\n",
       "      <td>3.342105</td>\n",
       "    </tr>\n",
       "    <tr>\n",
       "      <th>Late Afternoon</th>\n",
       "      <td>85249.000000</td>\n",
       "      <td>4.032258</td>\n",
       "    </tr>\n",
       "    <tr>\n",
       "      <th>Late Evening</th>\n",
       "      <td>53550.576923</td>\n",
       "      <td>2.884615</td>\n",
       "    </tr>\n",
       "    <tr>\n",
       "      <th>Late Morning</th>\n",
       "      <td>95405.687500</td>\n",
       "      <td>2.187500</td>\n",
       "    </tr>\n",
       "    <tr>\n",
       "      <th>Morning</th>\n",
       "      <td>115818.060606</td>\n",
       "      <td>5.818182</td>\n",
       "    </tr>\n",
       "    <tr>\n",
       "      <th>Night</th>\n",
       "      <td>107282.347826</td>\n",
       "      <td>3.695652</td>\n",
       "    </tr>\n",
       "  </tbody>\n",
       "</table>\n",
       "</div>"
      ],
      "text/plain": [
       "                 Sender Followers Count   Retweets\n",
       "day_part                                          \n",
       "Early Afternoon            58366.755556   2.688889\n",
       "Early Evening              51966.594595  12.297297\n",
       "Early Morning             144968.657895   3.342105\n",
       "Late Afternoon             85249.000000   4.032258\n",
       "Late Evening               53550.576923   2.884615\n",
       "Late Morning               95405.687500   2.187500\n",
       "Morning                   115818.060606   5.818182\n",
       "Night                     107282.347826   3.695652"
      ]
     },
     "execution_count": 17,
     "metadata": {
      "tags": []
     },
     "output_type": "execute_result"
    }
   ],
   "source": [
    "temp.groupby(\"day_part\").mean()"
   ]
  },
  {
   "cell_type": "code",
   "execution_count": null,
   "metadata": {
    "id": "xL5dJ5QnH5cu"
   },
   "outputs": [],
   "source": [
    "def spli(a):\n",
    "    try:\n",
    "        return a.split()\n",
    "    except:\n",
    "        return 0"
   ]
  },
  {
   "cell_type": "code",
   "execution_count": 157,
   "metadata": {
    "executionInfo": {
     "elapsed": 2172,
     "status": "ok",
     "timestamp": 1607277548084,
     "user": {
      "displayName": "Abhinav Choudhary",
      "photoUrl": "https://lh3.googleusercontent.com/a-/AOh14GglwleIvWu4YyPKI8x1XKLPRtBMdkVHXgpsn8KGrQ=s64",
      "userId": "00344939717675980850"
     },
     "user_tz": -330
    },
    "id": "XV3m7GclH5cu"
   },
   "outputs": [],
   "source": [
    "ab=df[\"Message\"][:200]"
   ]
  },
  {
   "cell_type": "code",
   "execution_count": 158,
   "metadata": {
    "executionInfo": {
     "elapsed": 1541,
     "status": "ok",
     "timestamp": 1607277549775,
     "user": {
      "displayName": "Abhinav Choudhary",
      "photoUrl": "https://lh3.googleusercontent.com/a-/AOh14GglwleIvWu4YyPKI8x1XKLPRtBMdkVHXgpsn8KGrQ=s64",
      "userId": "00344939717675980850"
     },
     "user_tz": -330
    },
    "id": "Wv8PuJTgH5cu"
   },
   "outputs": [],
   "source": [
    "all_sentences = []\n",
    "\n",
    "for word in ab:\n",
    "    all_sentences.append(word)\n",
    "\n",
    "#all_sentences\n",
    "#df1 = df.to_string()\n",
    "\n",
    "#df_split = df1.split()\n",
    "\n",
    "#df_split\n",
    "lines = list()\n",
    "for line in all_sentences: \n",
    "    try:\n",
    "        words = line.split()\n",
    "        for w in words: \n",
    "           lines.append(w)\n",
    "    except:\n",
    "        continue\n",
    "\n",
    "\n",
    "#print(lines)"
   ]
  },
  {
   "cell_type": "code",
   "execution_count": 159,
   "metadata": {
    "executionInfo": {
     "elapsed": 1299,
     "status": "ok",
     "timestamp": 1607277549776,
     "user": {
      "displayName": "Abhinav Choudhary",
      "photoUrl": "https://lh3.googleusercontent.com/a-/AOh14GglwleIvWu4YyPKI8x1XKLPRtBMdkVHXgpsn8KGrQ=s64",
      "userId": "00344939717675980850"
     },
     "user_tz": -330
    },
    "id": "kqENU2QHH5cu"
   },
   "outputs": [],
   "source": [
    "#Removing Punctuation\n",
    "\n",
    "lines = [re.sub(r'[^A-Za-z0-9]+', '', x) for x in lines]\n",
    "\n",
    "lines\n",
    "\n",
    "lines2 = []\n",
    "\n",
    "for word in lines:\n",
    "    if word != '':\n",
    "        lines2.append(word)"
   ]
  },
  {
   "cell_type": "code",
   "execution_count": 160,
   "metadata": {
    "colab": {
     "base_uri": "https://localhost:8080/"
    },
    "executionInfo": {
     "elapsed": 1754,
     "status": "ok",
     "timestamp": 1607277550410,
     "user": {
      "displayName": "Abhinav Choudhary",
      "photoUrl": "https://lh3.googleusercontent.com/a-/AOh14GglwleIvWu4YyPKI8x1XKLPRtBMdkVHXgpsn8KGrQ=s64",
      "userId": "00344939717675980850"
     },
     "user_tz": -330
    },
    "id": "dqQ2qELJH5cu",
    "outputId": "05d816bc-e80a-4ca9-fea6-49c188feeb75"
   },
   "outputs": [
    {
     "data": {
      "text/plain": [
       "42464"
      ]
     },
     "execution_count": 160,
     "metadata": {
      "tags": []
     },
     "output_type": "execute_result"
    }
   ],
   "source": [
    "len(lines)"
   ]
  },
  {
   "cell_type": "code",
   "execution_count": 161,
   "metadata": {
    "executionInfo": {
     "elapsed": 2137,
     "status": "ok",
     "timestamp": 1607277550935,
     "user": {
      "displayName": "Abhinav Choudhary",
      "photoUrl": "https://lh3.googleusercontent.com/a-/AOh14GglwleIvWu4YyPKI8x1XKLPRtBMdkVHXgpsn8KGrQ=s64",
      "userId": "00344939717675980850"
     },
     "user_tz": -330
    },
    "id": "D2rRyepRH5cu"
   },
   "outputs": [],
   "source": [
    "#This is stemming the words to their root\n",
    "from nltk.stem.snowball import SnowballStemmer\n",
    "\n",
    "# The Snowball Stemmer requires that you pass a language parameter\n",
    "s_stemmer = SnowballStemmer(language='english')\n",
    "\n",
    "stem = []\n",
    "for word in lines2:\n",
    "    stem.append(s_stemmer.stem(word))\n",
    "    \n",
    "#stem"
   ]
  },
  {
   "cell_type": "code",
   "execution_count": 162,
   "metadata": {
    "executionInfo": {
     "elapsed": 1993,
     "status": "ok",
     "timestamp": 1607277550938,
     "user": {
      "displayName": "Abhinav Choudhary",
      "photoUrl": "https://lh3.googleusercontent.com/a-/AOh14GglwleIvWu4YyPKI8x1XKLPRtBMdkVHXgpsn8KGrQ=s64",
      "userId": "00344939717675980850"
     },
     "user_tz": -330
    },
    "id": "IW_5ZxLFH5cu"
   },
   "outputs": [],
   "source": [
    "#Removing all Stop Words\n",
    "\n",
    "stem2 = []\n",
    "\n",
    "for word in stem:\n",
    "    if word not in nlp.Defaults.stop_words:\n",
    "        stem2.append(word)\n",
    "\n",
    "#stem2"
   ]
  },
  {
   "cell_type": "code",
   "execution_count": 163,
   "metadata": {
    "executionInfo": {
     "elapsed": 1851,
     "status": "ok",
     "timestamp": 1607277550941,
     "user": {
      "displayName": "Abhinav Choudhary",
      "photoUrl": "https://lh3.googleusercontent.com/a-/AOh14GglwleIvWu4YyPKI8x1XKLPRtBMdkVHXgpsn8KGrQ=s64",
      "userId": "00344939717675980850"
     },
     "user_tz": -330
    },
    "id": "u4qPe8o1H5cv"
   },
   "outputs": [],
   "source": [
    "df = pd.DataFrame(stem2)\n",
    "\n",
    "df = df[0].value_counts()\n",
    "\n",
    "#df\n",
    "#df['freq'] = df.groupby(0)[0].transform('count')\n",
    "#df['freq'] = df.groupby(0)[0].transform('count')\n",
    "#df.sort_values(by = ('freq'), ascending=False"
   ]
  },
  {
   "cell_type": "code",
   "execution_count": 164,
   "metadata": {
    "colab": {
     "base_uri": "https://localhost:8080/"
    },
    "executionInfo": {
     "elapsed": 1671,
     "status": "ok",
     "timestamp": 1607277550944,
     "user": {
      "displayName": "Abhinav Choudhary",
      "photoUrl": "https://lh3.googleusercontent.com/a-/AOh14GglwleIvWu4YyPKI8x1XKLPRtBMdkVHXgpsn8KGrQ=s64",
      "userId": "00344939717675980850"
     },
     "user_tz": -330
    },
    "id": "zHmSoSNDH5cv",
    "outputId": "e606ff29-69d8-4c09-87eb-7306cf762394"
   },
   "outputs": [
    {
     "data": {
      "text/plain": [
       "FreqDist({1: 1148,\n",
       "          2: 642,\n",
       "          3: 438,\n",
       "          4: 210,\n",
       "          5: 159,\n",
       "          6: 126,\n",
       "          7: 91,\n",
       "          8: 82,\n",
       "          9: 71,\n",
       "          10: 63,\n",
       "          11: 39,\n",
       "          12: 47,\n",
       "          13: 28,\n",
       "          14: 29,\n",
       "          15: 35,\n",
       "          16: 36,\n",
       "          17: 23,\n",
       "          18: 16,\n",
       "          19: 20,\n",
       "          20: 17,\n",
       "          21: 19,\n",
       "          22: 7,\n",
       "          23: 14,\n",
       "          24: 13,\n",
       "          25: 8,\n",
       "          26: 12,\n",
       "          27: 17,\n",
       "          28: 10,\n",
       "          29: 9,\n",
       "          30: 4,\n",
       "          31: 8,\n",
       "          32: 3,\n",
       "          33: 5,\n",
       "          34: 4,\n",
       "          35: 4,\n",
       "          36: 3,\n",
       "          37: 6,\n",
       "          38: 8,\n",
       "          39: 6,\n",
       "          40: 4,\n",
       "          41: 6,\n",
       "          42: 2,\n",
       "          43: 1,\n",
       "          44: 2,\n",
       "          45: 3,\n",
       "          46: 3,\n",
       "          47: 3,\n",
       "          48: 4,\n",
       "          49: 2,\n",
       "          51: 1,\n",
       "          52: 3,\n",
       "          53: 4,\n",
       "          54: 4,\n",
       "          55: 3,\n",
       "          56: 2,\n",
       "          57: 1,\n",
       "          58: 1,\n",
       "          60: 1,\n",
       "          61: 2,\n",
       "          62: 1,\n",
       "          63: 2,\n",
       "          64: 1,\n",
       "          66: 1,\n",
       "          67: 1,\n",
       "          68: 1,\n",
       "          69: 2,\n",
       "          72: 1,\n",
       "          73: 2,\n",
       "          75: 1,\n",
       "          76: 1,\n",
       "          81: 1,\n",
       "          82: 1,\n",
       "          83: 4,\n",
       "          84: 2,\n",
       "          86: 1,\n",
       "          87: 1,\n",
       "          94: 1,\n",
       "          100: 2,\n",
       "          105: 2,\n",
       "          119: 1,\n",
       "          120: 1,\n",
       "          121: 1,\n",
       "          125: 1,\n",
       "          132: 1,\n",
       "          141: 1,\n",
       "          158: 1,\n",
       "          215: 1,\n",
       "          227: 1,\n",
       "          238: 1})"
      ]
     },
     "execution_count": 164,
     "metadata": {
      "tags": []
     },
     "output_type": "execute_result"
    }
   ],
   "source": [
    "#This will give frequencies of our words\n",
    "\n",
    "from nltk.probability import FreqDist\n",
    "\n",
    "freqdoctor = FreqDist()\n",
    "\n",
    "for words in df:\n",
    "    freqdoctor[words] += 1\n",
    "\n",
    "freqdoctor"
   ]
  },
  {
   "cell_type": "code",
   "execution_count": 165,
   "metadata": {
    "executionInfo": {
     "elapsed": 1534,
     "status": "ok",
     "timestamp": 1607277550947,
     "user": {
      "displayName": "Abhinav Choudhary",
      "photoUrl": "https://lh3.googleusercontent.com/a-/AOh14GglwleIvWu4YyPKI8x1XKLPRtBMdkVHXgpsn8KGrQ=s64",
      "userId": "00344939717675980850"
     },
     "user_tz": -330
    },
    "id": "8S8fan13H5cv"
   },
   "outputs": [],
   "source": [
    "import matplotlib.pyplot as plt; plt.rcdefaults()\n",
    "import numpy as np\n",
    "import matplotlib.pyplot as plt\n",
    "import seaborn as sns"
   ]
  },
  {
   "cell_type": "code",
   "execution_count": 166,
   "metadata": {
    "colab": {
     "base_uri": "https://localhost:8080/",
     "height": 546
    },
    "executionInfo": {
     "elapsed": 2209,
     "status": "ok",
     "timestamp": 1607277551798,
     "user": {
      "displayName": "Abhinav Choudhary",
      "photoUrl": "https://lh3.googleusercontent.com/a-/AOh14GglwleIvWu4YyPKI8x1XKLPRtBMdkVHXgpsn8KGrQ=s64",
      "userId": "00344939717675980850"
     },
     "user_tz": -330
    },
    "id": "b2Gf0iMNH5cv",
    "outputId": "b94d16d7-8bfd-431f-ab6b-2f8b3e0c286e"
   },
   "outputs": [
    {
     "name": "stderr",
     "output_type": "stream",
     "text": [
      "/usr/local/lib/python3.6/dist-packages/seaborn/_decorators.py:43: FutureWarning: Pass the following variables as keyword args: x, y. From version 0.12, the only valid positional argument will be `data`, and passing other arguments without an explicit keyword will result in an error or misinterpretation.\n",
      "  FutureWarning\n"
     ]
    },
    {
     "data": {
      "image/png": "[encoded data removed]",
      "text/plain": [
       "<Figure size 1000x500 with 1 Axes>"
      ]
     },
     "metadata": {
      "tags": []
     },
     "output_type": "display_data"
    }
   ],
   "source": [
    "#This is a simple plot that shows the top 20 words being used\n",
    "#df.plot(20)\n",
    "\n",
    "df = df[:20,]\n",
    "plt.figure(figsize=(10,5))\n",
    "sns.barplot(df.values, df.index, alpha=0.8)\n",
    "plt.title('Top Words Overall')\n",
    "plt.ylabel('Word from Tweet', fontsize=12)\n",
    "plt.xlabel('Count of Words', fontsize=12)\n",
    "plt.show()"
   ]
  },
  {
   "cell_type": "code",
   "execution_count": 167,
   "metadata": {
    "executionInfo": {
     "elapsed": 2521,
     "status": "ok",
     "timestamp": 1607277552251,
     "user": {
      "displayName": "Abhinav Choudhary",
      "photoUrl": "https://lh3.googleusercontent.com/a-/AOh14GglwleIvWu4YyPKI8x1XKLPRtBMdkVHXgpsn8KGrQ=s64",
      "userId": "00344939717675980850"
     },
     "user_tz": -330
    },
    "id": "uWxOSuSrJ5Sg"
   },
   "outputs": [],
   "source": [
    "import spacy\n",
    "from spacy import displacy\n",
    "from collections import Counter\n",
    "import en_core_web_sm\n",
    "nlp = en_core_web_sm.load()"
   ]
  },
  {
   "cell_type": "code",
   "execution_count": 168,
   "metadata": {
    "executionInfo": {
     "elapsed": 2364,
     "status": "ok",
     "timestamp": 1607277552253,
     "user": {
      "displayName": "Abhinav Choudhary",
      "photoUrl": "https://lh3.googleusercontent.com/a-/AOh14GglwleIvWu4YyPKI8x1XKLPRtBMdkVHXgpsn8KGrQ=s64",
      "userId": "00344939717675980850"
     },
     "user_tz": -330
    },
    "id": "nOmxXkOhKArE"
   },
   "outputs": [],
   "source": [
    "def show_ents(doc):\n",
    "    if doc.ents:\n",
    "        for ent in doc.ents:\n",
    "            print(ent.text + ' - ' + ent.label_ + ' - ' + str(spacy.explain(ent.label_)))"
   ]
  },
  {
   "cell_type": "code",
   "execution_count": 169,
   "metadata": {
    "executionInfo": {
     "elapsed": 7664,
     "status": "ok",
     "timestamp": 1607277557724,
     "user": {
      "displayName": "Abhinav Choudhary",
      "photoUrl": "https://lh3.googleusercontent.com/a-/AOh14GglwleIvWu4YyPKI8x1XKLPRtBMdkVHXgpsn8KGrQ=s64",
      "userId": "00344939717675980850"
     },
     "user_tz": -330
    },
    "id": "BlOqltc8KEMu"
   },
   "outputs": [],
   "source": [
    "str1 = \" \" \n",
    "stem2 = str1.join(lines2)\n",
    "\n",
    "stem2 = nlp(stem2)\n",
    "\n",
    "label = [(X.text, X.label_) for X in stem2.ents]\n",
    "\n",
    "df6 = pd.DataFrame(label, columns = ['Word','Entity'])\n",
    "\n",
    "df7 = df6.where(df6['Entity'] == 'ORG')\n",
    "\n",
    "df7 = df7['Word'].value_counts()"
   ]
  },
  {
   "cell_type": "code",
   "execution_count": 171,
   "metadata": {
    "colab": {
     "base_uri": "https://localhost:8080/",
     "height": 541
    },
    "executionInfo": {
     "elapsed": 1497,
     "status": "ok",
     "timestamp": 1607277583030,
     "user": {
      "displayName": "Abhinav Choudhary",
      "photoUrl": "https://lh3.googleusercontent.com/a-/AOh14GglwleIvWu4YyPKI8x1XKLPRtBMdkVHXgpsn8KGrQ=s64",
      "userId": "00344939717675980850"
     },
     "user_tz": -330
    },
    "id": "sUEvmuYwKNmJ",
    "outputId": "afffac1e-dceb-473b-d623-f26a8b8cc422"
   },
   "outputs": [
    {
     "name": "stderr",
     "output_type": "stream",
     "text": [
      "/usr/local/lib/python3.6/dist-packages/seaborn/_decorators.py:43: FutureWarning: Pass the following variables as keyword args: x, y. From version 0.12, the only valid positional argument will be `data`, and passing other arguments without an explicit keyword will result in an error or misinterpretation.\n",
      "  FutureWarning\n"
     ]
    },
    {
     "data": {
      "image/png": "[encoded data removed]",
      "text/plain": [
       "<Figure size 1000x500 with 1 Axes>"
      ]
     },
     "metadata": {
      "tags": []
     },
     "output_type": "display_data"
    },
    {
     "data": {
      "text/plain": [
       "<Figure size 640x480 with 0 Axes>"
      ]
     },
     "metadata": {
      "tags": []
     },
     "output_type": "display_data"
    }
   ],
   "source": [
    "df = df7[:20,]\n",
    "plt.figure(figsize=(10,5))\n",
    "sns.barplot(df.values, df.index, alpha=0.8)\n",
    "plt.title('Top Organizations Mentioned')\n",
    "plt.ylabel('Word from Tweet', fontsize=12)\n",
    "#plt.xlabel('Count of Words', fontsize=12)\n",
    "plt.show()\n",
    "plt.savefig(\"hii.png\")"
   ]
  },
  {
   "cell_type": "code",
   "execution_count": 172,
   "metadata": {
    "executionInfo": {
     "elapsed": 6219,
     "status": "ok",
     "timestamp": 1607277596587,
     "user": {
      "displayName": "Abhinav Choudhary",
      "photoUrl": "https://lh3.googleusercontent.com/a-/AOh14GglwleIvWu4YyPKI8x1XKLPRtBMdkVHXgpsn8KGrQ=s64",
      "userId": "00344939717675980850"
     },
     "user_tz": -330
    },
    "id": "3fu5Yem3KWoF"
   },
   "outputs": [],
   "source": [
    "str1 = \" \" \n",
    "stem2 = str1.join(lines2)\n",
    "\n",
    "stem2 = nlp(stem2)\n",
    "\n",
    "label = [(X.text, X.label_) for X in stem2.ents]\n",
    "\n",
    "df10 = pd.DataFrame(label, columns = ['Word','Entity'])\n",
    "\n",
    "df10 = df10.where(df10['Entity'] == 'PERSON')\n",
    "\n",
    "df11 = df10['Word'].value_counts()"
   ]
  },
  {
   "cell_type": "code",
   "execution_count": 174,
   "metadata": {
    "colab": {
     "base_uri": "https://localhost:8080/",
     "height": 541
    },
    "executionInfo": {
     "elapsed": 2595,
     "status": "ok",
     "timestamp": 1607277664029,
     "user": {
      "displayName": "Abhinav Choudhary",
      "photoUrl": "https://lh3.googleusercontent.com/a-/AOh14GglwleIvWu4YyPKI8x1XKLPRtBMdkVHXgpsn8KGrQ=s64",
      "userId": "00344939717675980850"
     },
     "user_tz": -330
    },
    "id": "WNvrx8H3L5SB",
    "outputId": "35823919-1f78-46d3-d575-84413edb00b0"
   },
   "outputs": [
    {
     "name": "stderr",
     "output_type": "stream",
     "text": [
      "/usr/local/lib/python3.6/dist-packages/seaborn/_decorators.py:43: FutureWarning: Pass the following variables as keyword args: x, y. From version 0.12, the only valid positional argument will be `data`, and passing other arguments without an explicit keyword will result in an error or misinterpretation.\n",
      "  FutureWarning\n"
     ]
    },
    {
     "data": {
      "image/png": "[encoded data removed]",
      "text/plain": [
       "<Figure size 1000x500 with 1 Axes>"
      ]
     },
     "metadata": {
      "tags": []
     },
     "output_type": "display_data"
    },
    {
     "data": {
      "text/plain": [
       "<Figure size 640x480 with 0 Axes>"
      ]
     },
     "metadata": {
      "tags": []
     },
     "output_type": "display_data"
    }
   ],
   "source": [
    "df = df11[:20,]\n",
    "plt.figure(figsize=(10,5))\n",
    "sns.barplot(df.values, df.index, alpha=0.8)\n",
    "plt.title('Top People Mentioned')\n",
    "plt.ylabel('Word from Tweet', fontsize=12)\n",
    "#plt.xlabel('Count of Words', fontsize=12)\n",
    "plt.show()\n",
    "plt.savefig(\"People.png\")"
   ]
  },
  {
   "cell_type": "code",
   "execution_count": null,
   "metadata": {
    "id": "woymiXpcL9ug"
   },
   "outputs": [],
   "source": []
  }
 ],
 "metadata": {
  "accelerator": "GPU",
  "colab": {
   "collapsed_sections": [],
   "name": "Other_Analysis.ipynb",
   "provenance": []
  },
  "kernelspec": {
   "display_name": "Python 3",
   "language": "python",
   "name": "python3"
  },
  "language_info": {
   "codemirror_mode": {
    "name": "ipython",
    "version": 3
   },
   "file_extension": ".py",
   "mimetype": "text/x-python",
   "name": "python",
   "nbconvert_exporter": "python",
   "pygments_lexer": "ipython3",
   "version": "3.7.1"
  }
 },
 "nbformat": 4,
 "nbformat_minor": 1
}
