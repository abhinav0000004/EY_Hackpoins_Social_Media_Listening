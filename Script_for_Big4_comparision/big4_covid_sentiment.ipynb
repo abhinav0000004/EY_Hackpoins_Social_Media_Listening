{
 "cells": [
  {
   "cell_type": "code",
   "execution_count": 19,
   "metadata": {},
   "outputs": [],
   "source": [
    "from textblob import TextBlob\n",
    "import matplotlib.pyplot as plt\n",
    "import numpy as np\n",
    "import pandas as pd\n",
    "import re"
   ]
  },
  {
   "cell_type": "code",
   "execution_count": 29,
   "metadata": {},
   "outputs": [
    {
     "data": {
      "image/png": "[encoded data removed]",
      "text/plain": [
       "<Figure size 432x288 with 1 Axes>"
      ]
     },
     "metadata": {},
     "output_type": "display_data"
    }
   ],
   "source": [
    "pd1=pd.read_csv(\"PWC_COVID.csv\")\n",
    "#pd2=pd.read_csv(\"Deloitte_COVID.csv\")\n",
    "#pd3=pd.read_csv(\"KPMG_COVID.csv\")\n",
    "#pd4=pd.read_csv(\"PWC_COVID.csv\")\n",
    "pos=0\n",
    "neutral=0\n",
    "neg=0\n",
    "\n",
    "\n",
    "def sent(pdf):\n",
    "    idx=0\n",
    "    for i in range(0, len(pdf[\"Text\"].tolist())):\n",
    "        m=' '.join(re.sub(\"(@[A-Za-z0-9]+)|([^0-9A-Za-z \\t])|(\\w+:\\/\\/\\S+)\", \" \",pdf[\"Text\"][idx]).split())\n",
    "        #for i in range(0, len(m)):\n",
    "        analysis = TextBlob(m)\n",
    "        if analysis.sentiment.polarity > 0:\n",
    "            pdf.at[idx,\"sentiment\"]=1 \n",
    "\n",
    "        elif analysis.sentiment.polarity == 0:\n",
    "            pdf.at[idx,\"sentiment\"]=0\n",
    "\n",
    "        else:\n",
    "            pdf.at[idx,\"sentiment\"]=-1\n",
    "\n",
    "        idx+=1\n",
    "\n",
    "sent(pd1)\n",
    "\n",
    "yr=pd1[\"sentiment\"].tolist()\n",
    "for i in yr:\n",
    "\n",
    "    if np.int(i)==1:\n",
    "        pos+=1\n",
    "    if np.int(i)==0:\n",
    "        neutral+=1\n",
    "    if np.int(i)==-1:\n",
    "        neg+=1\n",
    "\n",
    "#for j in range(0, len(eng)):\n",
    "    #eng[j]=eng[j]//3\n",
    "\"\"\"\"\"    \n",
    "for i in range(0, len(yr)):\n",
    "    h=yr[i]\n",
    "    z=int(h[5:7])\n",
    "    if not pd.isna(pd4[\"commentCount\"][i]):\n",
    "        eng[z-1]+=np.int(pd4[\"commentCount\"][i])\n",
    "    if not pd.isna(pd4[\"retweetCount\"][i]):\n",
    "        eng[z-1]+=np.int(pd4[\"retweetCount\"][i])\n",
    "    if not pd.isna(pd4[\"likeCount\"][i]):\n",
    "        eng[z-1]+=np.int(pd4[\"likeCount\"][i])\n",
    "    if pd4[\"sentiment\"][i]==1.0:\n",
    "        pos[z-1]+=1\n",
    "    if pd4[\"sentiment\"][i]==-1.0:\n",
    "        neg[z-1]+=1\n",
    "    if pd4[\"sentiment\"][i]==0.0:\n",
    "        neutral[z-1]+=1\n",
    "#for j in range(0, len(eng)):\n",
    "    #eng[j]=eng[j]//3\n",
    "\"\"\"\"\"\n",
    "\n",
    "labels = 'Positive', 'Neutral', 'Negative'\n",
    "sizes = [pos, neutral, neg]\n",
    "explode = (0.05, 0.05, 0.05)  \n",
    "\n",
    "fig1, ax1 = plt.subplots()\n",
    "ax1.pie(sizes, explode=explode, labels=labels, autopct='%1.1f%%',\n",
    "        shadow=True, startangle=90)\n",
    "ax1.axis('equal') \n",
    "label=\"PWC sentiment percentage\"\n",
    "plt.title(label, fontdict=None, loc='left', pad=None)\n",
    "plt.show()\n",
    "\n",
    "    \n",
    "    \n"
   ]
  }
 ],
 "metadata": {
  "kernelspec": {
   "display_name": "Python 3",
   "language": "python",
   "name": "python3"
  },
  "language_info": {
   "codemirror_mode": {
    "name": "ipython",
    "version": 3
   },
   "file_extension": ".py",
   "mimetype": "text/x-python",
   "name": "python",
   "nbconvert_exporter": "python",
   "pygments_lexer": "ipython3",
   "version": "3.7.1"
  }
 },
 "nbformat": 4,
 "nbformat_minor": 4
}
