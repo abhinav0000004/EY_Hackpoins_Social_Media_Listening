{
 "cells": [
  {
   "cell_type": "code",
   "execution_count": 1,
   "metadata": {},
   "outputs": [],
   "source": [
    "import pandas as pd\n",
    "import matplotlib\n",
    "import matplotlib.pyplot as plt\n",
    "import numpy as np"
   ]
  },
  {
   "cell_type": "code",
   "execution_count": 2,
   "metadata": {},
   "outputs": [],
   "source": [
    "#Reading EY Data \n",
    "ey_ai=len(pd.read_csv(\"Events/EY_Technology.csv\"))\n",
    "ey_ml=len(pd.read_csv(\"Events/EY_Technology1.csv\"))\n",
    "ey_ds=len(pd.read_csv(\"Events/EY_Technology2.csv\"))"
   ]
  },
  {
   "cell_type": "code",
   "execution_count": 3,
   "metadata": {},
   "outputs": [],
   "source": [
    "#Reading PWC Data \n",
    "PWC_ai=len(pd.read_csv(\"Events/PWC_Technology.csv\"))\n",
    "PWC_ml=len(pd.read_csv(\"Events/PWC_Technology1.csv\"))\n",
    "PWC_ds=len(pd.read_csv(\"Events/PWC_Technology2.csv\"))"
   ]
  },
  {
   "cell_type": "code",
   "execution_count": 4,
   "metadata": {},
   "outputs": [],
   "source": [
    "#Reading KPMG Data \n",
    "KPMG_ai=len(pd.read_csv(\"Events/KPMG_Technology.csv\"))\n",
    "KPMG_ml=len(pd.read_csv(\"Events/KPMG_Technology1.csv\"))\n",
    "KPMG_ds=len(pd.read_csv(\"Events/KPMG_Technology2.csv\"))"
   ]
  },
  {
   "cell_type": "code",
   "execution_count": 5,
   "metadata": {},
   "outputs": [],
   "source": [
    "#Reading Deloitte Data \n",
    "deloitte_ai=len(pd.read_csv(\"Events/deloitte_Technology.csv\"))\n",
    "deloitte_ml=len(pd.read_csv(\"Events/deloitte_Technology1.csv\"))\n",
    "deloitte_ds=len(pd.read_csv(\"Events/deloitte_Technology2.csv\"))"
   ]
  },
  {
   "cell_type": "code",
   "execution_count": 6,
   "metadata": {},
   "outputs": [],
   "source": [
    "labels = ['Artificial Intelligence','Machine Learning','Data Science']\n",
    "ey=[ey_ai,ey_ml,ey_ds]\n",
    "PWC=[PWC_ai,PWC_ml,PWC_ds]\n",
    "KPMG=[KPMG_ai,KPMG_ml,KPMG_ds]\n",
    "deloitte=[deloitte_ai,deloitte_ml,deloitte_ds]"
   ]
  },
  {
   "cell_type": "code",
   "execution_count": 8,
   "metadata": {},
   "outputs": [],
   "source": [
    "x = np.arange(len(labels))  # the label locations\n",
    "width = 0.20  # the width of the bars"
   ]
  },
  {
   "cell_type": "code",
   "execution_count": 10,
   "metadata": {},
   "outputs": [
    {
     "data": {
      "image/png": "[encoded data removed]",
      "text/plain": [
       "<Figure size 432x288 with 1 Axes>"
      ]
     },
     "metadata": {},
     "output_type": "display_data"
    }
   ],
   "source": [
    "#Plot\n",
    "fig, ax = plt.subplots()\n",
    "plt.style.use('dark_background')\n",
    "\n",
    "rects1 = ax.bar(x - width/2-width, ey, width, label='EY')\n",
    "rects2 = ax.bar(x -width/2, PWC, width, label='PWC')\n",
    "rects3 = ax.bar(x + width/2, deloitte, width, label='deloitte')\n",
    "rects4 = ax.bar(x + width/2+width, KPMG, width, label='KPMG')\n",
    "\n",
    "plt.style.use('dark_background')\n",
    "\n",
    "\n",
    "# Add some text for labels, title and custom x-axis tick labels, etc.\n",
    "ax.set_ylabel('Count')\n",
    "ax.set_title('Mention of Buzz Tech in Tweet')\n",
    "ax.set_xticks(x)\n",
    "ax.set_xticklabels(labels)\n",
    "ax.legend()\n",
    "fig.tight_layout()\n",
    "plt.savefig(\"techMention.png\")\n",
    "plt.show()"
   ]
  },
  {
   "cell_type": "code",
   "execution_count": null,
   "metadata": {},
   "outputs": [],
   "source": [
    "#Suggestions and Stats\n",
    "'''\n",
    "Pwc dominating twitter by using name of trending technologies like AI/ML,Data Science,etc\n",
    "While EY is worst in terms of this and should use these buzzwords to max reach.\n",
    "'''"
   ]
  }
 ],
 "metadata": {
  "kernelspec": {
   "display_name": "Python 3",
   "language": "python",
   "name": "python3"
  },
  "language_info": {
   "codemirror_mode": {
    "name": "ipython",
    "version": 3
   },
   "file_extension": ".py",
   "mimetype": "text/x-python",
   "name": "python",
   "nbconvert_exporter": "python",
   "pygments_lexer": "ipython3",
   "version": "3.7.1"
  }
 },
 "nbformat": 4,
 "nbformat_minor": 4
}
