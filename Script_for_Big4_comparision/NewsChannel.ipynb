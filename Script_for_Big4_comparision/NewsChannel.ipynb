{
 "cells": [
  {
   "cell_type": "code",
   "execution_count": 1,
   "metadata": {},
   "outputs": [],
   "source": [
    "#import libraries\n",
    "import pandas as pd\n",
    "from matplotlib import pyplot as plt \n",
    "import numpy as np"
   ]
  },
  {
   "cell_type": "code",
   "execution_count": 3,
   "metadata": {},
   "outputs": [],
   "source": [
    "df=pd.read_csv(\"FamousNewsChannel/EY_NewsChannel.csv\")"
   ]
  },
  {
   "cell_type": "code",
   "execution_count": 4,
   "metadata": {},
   "outputs": [],
   "source": [
    "#For no of mentions by famous news channels\n",
    "famous=df.groupby(\"UserName\").count()\n",
    "famous[\"Channel\"]=famous.index\n",
    "famous=famous[[\"Text\",\"Channel\"]]\n",
    "famous.rename({\"Text\":\"noOfMention\"},axis=1,inplace=True)\n",
    "famous=famous.sort_values(by=['noOfMention'],ascending=False)"
   ]
  },
  {
   "cell_type": "code",
   "execution_count": 5,
   "metadata": {},
   "outputs": [
    {
     "data": {
      "image/png": "[encoded data removed]",
      "text/plain": [
       "<Figure size 576x432 with 1 Axes>"
      ]
     },
     "metadata": {},
     "output_type": "display_data"
    }
   ],
   "source": [
    "#Plot graph for EY\n",
    "plt.style.use('dark_background')\n",
    "name = famous['Channel'] \n",
    "Count = famous['noOfMention']\n",
    "# Figure Size \n",
    "fig, ax = plt.subplots(figsize =(8, 6)) \n",
    "# Horizontal Bar Plot \n",
    "ax.barh(name, Count)   \n",
    "# Remove axes splines \n",
    "for s in ['top', 'bottom', 'left', 'right']: \n",
    "    ax.spines[s].set_visible(False)   \n",
    "# Remove x, y Ticks \n",
    "ax.xaxis.set_ticks_position('none') \n",
    "ax.yaxis.set_ticks_position('none')   \n",
    "# Add padding between axes and labels \n",
    "ax.xaxis.set_tick_params(pad = 5) \n",
    "ax.yaxis.set_tick_params(pad = 10) \n",
    "# Add x, y gridlines \n",
    "ax.grid(b = True, color ='grey', \n",
    "        linestyle ='-.', linewidth = 0.5, \n",
    "        alpha = 0.2)   \n",
    "# Show top values  \n",
    "ax.invert_yaxis() \n",
    "  \n",
    "# Add annotation to bars \n",
    "for i in ax.patches: \n",
    "    plt.text(i.get_width()+0.2, i.get_y()+0.5,  \n",
    "             str(round((i.get_width()), 2)), \n",
    "             fontsize = 10, fontweight ='bold', \n",
    "             color ='grey') \n",
    "  \n",
    "# Add Plot Title \n",
    "ax.set_title('Mentions By Famous News Channels(Past three years)', \n",
    "             loc ='left', ) \n",
    "  \n",
    "# Add Text watermark \n",
    "fig.text(0.9, 0.15, 'Team Bolt', fontsize = 12, \n",
    "         color ='grey', ha ='right', va ='bottom', \n",
    "         alpha = 0.7) \n",
    "  \n",
    "plt.savefig('EY_news.png')  \n",
    "# Show Plot \n",
    "plt.show()\n"
   ]
  },
  {
   "cell_type": "code",
   "execution_count": 6,
   "metadata": {},
   "outputs": [],
   "source": [
    "#For all big 4\n",
    "EY=pd.read_csv(\"FamousNewsChannel/EY_NewsChannel.csv\")\n",
    "pwc=pd.read_csv(\"FamousNewsChannel/PWC_NewsChannel.csv\")\n",
    "deloitte=pd.read_csv(\"FamousNewsChannel/Deloitte_NewsChannel.csv\")\n",
    "KPMG=pd.read_csv(\"FamousNewsChannel/KPMG_NewsChannel.csv\")"
   ]
  },
  {
   "cell_type": "code",
   "execution_count": 7,
   "metadata": {},
   "outputs": [],
   "source": [
    "#Define a function for all the preprocessing\n",
    "def findcount(df,val):\n",
    "    famous=df.groupby(\"UserName\").count()\n",
    "    famous[\"Channel\"]=famous.index\n",
    "    famous=famous[[\"Text\",\"Channel\"]]\n",
    "    famous.rename({\"Text\":val},axis=1,inplace=True)\n",
    "    famous=famous.sort_values(by=[val],ascending=False)\n",
    "    return famous"
   ]
  },
  {
   "cell_type": "code",
   "execution_count": 8,
   "metadata": {},
   "outputs": [],
   "source": [
    "EY=findcount(EY,\"EY\")\n",
    "pwc=findcount(pwc,\"PWC\")\n",
    "deloitte=findcount(deloitte,\"Deloitte\")\n",
    "KPMG=findcount(KPMG,\"KPMG\")"
   ]
  },
  {
   "cell_type": "code",
   "execution_count": 9,
   "metadata": {},
   "outputs": [],
   "source": [
    "#Combining Data in a single Dataframe\n",
    "finaltab=pd.merge(EY, KPMG)\n",
    "finaltab=pd.merge(finaltab,deloitte)\n",
    "finaltab=pd.merge(finaltab, pwc)"
   ]
  },
  {
   "cell_type": "code",
   "execution_count": 10,
   "metadata": {},
   "outputs": [
    {
     "data": {
      "text/html": [
       "<div>\n",
       "<style scoped>\n",
       "    .dataframe tbody tr th:only-of-type {\n",
       "        vertical-align: middle;\n",
       "    }\n",
       "\n",
       "    .dataframe tbody tr th {\n",
       "        vertical-align: top;\n",
       "    }\n",
       "\n",
       "    .dataframe thead th {\n",
       "        text-align: right;\n",
       "    }\n",
       "</style>\n",
       "<table border=\"1\" class=\"dataframe\">\n",
       "  <thead>\n",
       "    <tr style=\"text-align: right;\">\n",
       "      <th></th>\n",
       "      <th>EY</th>\n",
       "      <th>Channel</th>\n",
       "      <th>KPMG</th>\n",
       "      <th>Deloitte</th>\n",
       "      <th>PWC</th>\n",
       "    </tr>\n",
       "  </thead>\n",
       "  <tbody>\n",
       "    <tr>\n",
       "      <th>0</th>\n",
       "      <td>23</td>\n",
       "      <td>Economic Times</td>\n",
       "      <td>20</td>\n",
       "      <td>23</td>\n",
       "      <td>13</td>\n",
       "    </tr>\n",
       "    <tr>\n",
       "      <th>1</th>\n",
       "      <td>17</td>\n",
       "      <td>moneycontrol</td>\n",
       "      <td>6</td>\n",
       "      <td>10</td>\n",
       "      <td>16</td>\n",
       "    </tr>\n",
       "    <tr>\n",
       "      <th>2</th>\n",
       "      <td>11</td>\n",
       "      <td>CNBC</td>\n",
       "      <td>8</td>\n",
       "      <td>1</td>\n",
       "      <td>1</td>\n",
       "    </tr>\n",
       "    <tr>\n",
       "      <th>3</th>\n",
       "      <td>10</td>\n",
       "      <td>Financial Times</td>\n",
       "      <td>24</td>\n",
       "      <td>14</td>\n",
       "      <td>19</td>\n",
       "    </tr>\n",
       "    <tr>\n",
       "      <th>4</th>\n",
       "      <td>8</td>\n",
       "      <td>Business Standard</td>\n",
       "      <td>8</td>\n",
       "      <td>7</td>\n",
       "      <td>12</td>\n",
       "    </tr>\n",
       "    <tr>\n",
       "      <th>5</th>\n",
       "      <td>6</td>\n",
       "      <td>Mint</td>\n",
       "      <td>8</td>\n",
       "      <td>7</td>\n",
       "      <td>5</td>\n",
       "    </tr>\n",
       "    <tr>\n",
       "      <th>6</th>\n",
       "      <td>5</td>\n",
       "      <td>ET NOW</td>\n",
       "      <td>10</td>\n",
       "      <td>5</td>\n",
       "      <td>11</td>\n",
       "    </tr>\n",
       "  </tbody>\n",
       "</table>\n",
       "</div>"
      ],
      "text/plain": [
       "   EY            Channel  KPMG  Deloitte  PWC\n",
       "0  23     Economic Times    20        23   13\n",
       "1  17       moneycontrol     6        10   16\n",
       "2  11               CNBC     8         1    1\n",
       "3  10    Financial Times    24        14   19\n",
       "4   8  Business Standard     8         7   12\n",
       "5   6               Mint     8         7    5\n",
       "6   5             ET NOW    10         5   11"
      ]
     },
     "execution_count": 10,
     "metadata": {},
     "output_type": "execute_result"
    }
   ],
   "source": [
    "finaltab"
   ]
  },
  {
   "cell_type": "code",
   "execution_count": 11,
   "metadata": {},
   "outputs": [
    {
     "data": {
      "image/png": "[encoded data removed]",
      "text/plain": [
       "<Figure size 720x504 with 1 Axes>"
      ]
     },
     "metadata": {},
     "output_type": "display_data"
    }
   ],
   "source": [
    "#plot the graph\n",
    "N=7\n",
    "EY = finaltab[\"EY\"]\n",
    "PWC =finaltab[\"PWC\"]\n",
    "KPMG =finaltab[\"KPMG\"]\n",
    "Deloitte =finaltab[\"Deloitte\"]\n",
    "\n",
    "Std = (0,1,2,3,4,5,6) \n",
    "bar1 = np.add(EY,KPMG).tolist()\n",
    "bar2 = np.add(bar1,PWC).tolist()\n",
    "\n",
    "\n",
    "ind = np.arange(N)    \n",
    "width = 0.5  \n",
    "plt.style.use('dark_background')\n",
    "  \n",
    "fig = plt.subplots(figsize =(10, 7)) \n",
    "p1 = plt.bar(ind, EY, width, yerr = Std) \n",
    "p2 = plt.bar(ind, KPMG, width, bottom = EY, yerr = Std)\n",
    "p3 = plt.bar(ind, PWC, width, bottom = bar1, yerr = Std) \n",
    "p4 = plt.bar(ind, Deloitte, width, bottom = bar2, yerr = Std) \n",
    "\n",
    "  \n",
    "plt.ylabel('Count') \n",
    "plt.title('Number of Mention(Past three years)') \n",
    "plt.xticks(ind, ('Economic TImes', 'moneycontrol', 'CNBC', 'FinancialTimes', '   Business Standard','Mint','ET NOW')) \n",
    "plt.yticks(np.arange(0, 90, 5)) \n",
    "plt.legend((p1[0], p2[0],p3[0],p4[0]), ('EY', 'KPMG','PWC','Deloitte')) \n",
    "plt.savefig('NewsBig4.png')  \n",
    "plt.show() "
   ]
  },
  {
   "cell_type": "code",
   "execution_count": 12,
   "metadata": {},
   "outputs": [
    {
     "data": {
      "text/plain": [
       "'\\nThere were 19 incidents where KPMG was mentioned while the count is 17,14 and 12 for EY,Deloitte and PWC.\\nAlso in the year 2019 KPMG was almost mentioned in every month\\nThough EY is almost equal to other Big4 but still need to have more incidents in order to dominate in this.\\n'"
      ]
     },
     "execution_count": 12,
     "metadata": {},
     "output_type": "execute_result"
    }
   ],
   "source": [
    "#Key Insights\n",
    "'''\n",
    "There were 19 incidents where KPMG was mentioned while the count is 17,14 and 12 for EY,Deloitte and PWC.\n",
    "Also in the year 2019 KPMG was almost mentioned in every month\n",
    "Though EY is almost equal to other Big4 but still need to have more incidents in order to dominate in this.\n",
    "'''"
   ]
  },
  {
   "cell_type": "code",
   "execution_count": null,
   "metadata": {},
   "outputs": [],
   "source": []
  }
 ],
 "metadata": {
  "kernelspec": {
   "display_name": "Python 3",
   "language": "python",
   "name": "python3"
  },
  "language_info": {
   "codemirror_mode": {
    "name": "ipython",
    "version": 3
   },
   "file_extension": ".py",
   "mimetype": "text/x-python",
   "name": "python",
   "nbconvert_exporter": "python",
   "pygments_lexer": "ipython3",
   "version": "3.7.1"
  }
 },
 "nbformat": 4,
 "nbformat_minor": 4
}
