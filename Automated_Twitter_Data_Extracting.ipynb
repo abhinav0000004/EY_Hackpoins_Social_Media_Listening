{
 "cells": [
  {
   "cell_type": "code",
   "execution_count": 1,
   "metadata": {},
   "outputs": [],
   "source": [
    "#importing all the libraries \n",
    "import numpy as np\n",
    "import pandas as pd\n",
    "from selenium.webdriver.common.keys import Keys\n",
    "from selenium.common.exceptions import NoSuchElementException\n",
    "from selenium.webdriver import Chrome\n",
    "import re\n",
    "import csv\n",
    "from getpass import getpass\n",
    "from time import sleep\n",
    "import getpass "
   ]
  },
  {
   "cell_type": "code",
   "execution_count": 2,
   "metadata": {},
   "outputs": [
    {
     "name": "stdout",
     "output_type": "stream",
     "text": [
      "Enter Username:abhinavchoudhary0000004@gmail.com\n",
      "Enter password:········\n"
     ]
    }
   ],
   "source": [
    "#twitter credentials \n",
    "twitterUsername=input(\"Enter Username:\")\n",
    "twitterPass=getpass.getpass(\"Enter password:\")"
   ]
  },
  {
   "cell_type": "code",
   "execution_count": 10,
   "metadata": {},
   "outputs": [],
   "source": [
    "#Enter all the search Query here\n",
    "#Search Query used for this projects are mentioned in Last\n",
    "#You can add multiple queries as well but its not recommended \n",
    "searchQuaries = [[\"Deloitte_Strategy&Transactions\",\"Deloitte (Strategy OR Transactions) lang:en until:2020-11-29 since:2019-01-01 -filter:replies\"]]"
   ]
  },
  {
   "cell_type": "code",
   "execution_count": 4,
   "metadata": {},
   "outputs": [],
   "source": [
    "#collecting each tweet details \n",
    "def getTweetDetails(singleTweet):\n",
    "    name = singleTweet.find_element_by_xpath('.//span').text\n",
    "    try:\n",
    "        twitterID = singleTweet.find_element_by_xpath('.//span[contains(text(), \"@\")]').text\n",
    "    except NoSuchElementException:\n",
    "        return\n",
    "    try:\n",
    "        date = singleTweet.find_element_by_xpath('.//time').get_attribute('datetime')\n",
    "    except NoSuchElementException:\n",
    "        return    \n",
    "    comments = singleTweet.find_element_by_xpath('.//div[2]/div[2]/div[1]').text\n",
    "    responding = singleTweet.find_element_by_xpath('.//div[2]/div[2]/div[2]').text\n",
    "    text = comments + responding\n",
    "    replyCount = singleTweet.find_element_by_xpath('.//div[@data-testid=\"reply\"]').text\n",
    "    retweetCount = singleTweet.find_element_by_xpath('.//div[@data-testid=\"retweet\"]').text\n",
    "    likeCount = singleTweet.find_element_by_xpath('.//div[@data-testid=\"like\"]').text    \n",
    "    tweetDetails = (name, twitterID, date, text, replyCount, retweetCount, likeCount)\n",
    "    return tweetDetails    "
   ]
  },
  {
   "cell_type": "code",
   "execution_count": 5,
   "metadata": {},
   "outputs": [],
   "source": [
    "#for Login into twitter account\n",
    "driver = Chrome(executable_path=\".\\chromedriver.exe\")\n",
    "driver.get('https://www.twitter.com/login')\n",
    "driver.maximize_window()\n",
    "username = driver.find_element_by_xpath('//input[@name=\"session[username_or_email]\"]')\n",
    "username.send_keys(twitterUsername)\n",
    "password = driver.find_element_by_xpath('//input[@name=\"session[password]\"]')\n",
    "password.send_keys(twitterPass)\n",
    "password.send_keys(Keys.RETURN)\n",
    "sleep(2)"
   ]
  },
  {
   "cell_type": "code",
   "execution_count": 11,
   "metadata": {},
   "outputs": [],
   "source": [
    "#creating a iterative process to extract loops\n",
    "for searchKey in searchQuaries:\n",
    "    searchTextField = driver.find_element_by_xpath('//input[@aria-label=\"Search query\"]')\n",
    "    searchTextField.clear()\n",
    "    searchTextField.send_keys(searchKey[1])\n",
    "    searchTextField.send_keys(Keys.RETURN)\n",
    "    driver.find_element_by_link_text('Latest').click()\n",
    "    data = []\n",
    "    tweetUnique = set()#to keep track of the tweets that has already been scrapped and to avoid scrapping same\n",
    "    lastPos = driver.execute_script(\"return window.pageYOffset;\")#keep track of scrolling position\n",
    "    scroll = True\n",
    "    maxtweets=0 #extract maximum of 1000 tweets\n",
    "    while scroll:\n",
    "        maxtweets=maxtweets+1\n",
    "        pageTweets = driver.find_elements_by_xpath('//div[@data-testid=\"tweet\"]')\n",
    "        for singleTweet in pageTweets[-5:]: #to check if scrapped tweet is in last 5 tweets \n",
    "            tweet = getTweetDetails(singleTweet)\n",
    "            if tweet:\n",
    "                tweet_id = ''.join(tweet)\n",
    "                if tweet_id not in tweetUnique:\n",
    "                    tweetUnique.add(tweet_id)\n",
    "                    data.append(tweet)\n",
    "            \n",
    "        attemp = 0 #for slow internet connectivity/reached end of Page\n",
    "        while True:\n",
    "            # check scroll position\n",
    "            driver.execute_script('window.scrollTo(0, document.body.scrollHeight);')\n",
    "            sleep(2)\n",
    "            currPos = driver.execute_script(\"return window.pageYOffset;\")\n",
    "            if lastPos == currPos:\n",
    "                attemp = attemp + 1\n",
    "                # end of scroll region\n",
    "                if attemp >= 4:\n",
    "                    scroll = False\n",
    "                    break\n",
    "                else:\n",
    "                    sleep(5) # attempt another scroll\n",
    "            else:\n",
    "                lastPos = currPos\n",
    "                if maxtweets>=500:\n",
    "                    scroll = False\n",
    "                break\n",
    "    with open(searchKey[0]+'.csv', 'w', newline='', encoding='utf-8') as f:\n",
    "        header = ['UserName', 'TwitterID', 'Time', 'Text','commentCount', 'retweetCount', 'likeCount']\n",
    "        writer = csv.writer(f)\n",
    "        writer.writerow(header)\n",
    "        writer.writerows(data)\n",
    "    #search_input.clear()\n",
    "    driver.get(\"https://twitter.com/home\")\n",
    "    sleep(5)"
   ]
  },
  {
   "cell_type": "code",
   "execution_count": null,
   "metadata": {},
   "outputs": [],
   "source": [
    "#for services\n",
    "#EY (Strategy OR Transactions) lang:en until:2020-11-29 since:2019-01-01 -filter:replies\n",
    "#EY Banking lang:en until:2020-11-29 since:2019-01-01 -filter:replies\n",
    "#EY Tax lang:en until:2020-11-29 since:2019-01-01 -filter:replies\n",
    "#EY Assurance lang:en until:2020-11-29 since:2019-01-01 -filter:replies\n",
    "#EY Consultancy lang:en until:2020-11-29 since:2019-01-01 -filter:replies\n",
    "\n",
    "#for grographical analysis\n",
    "#(@EY_US) lang:en until:2020-11-29 since:2020-01-01 -filter:replies\n",
    "#(@EY_India) lang:en until:2020-11-29 since:2020-01-01 -filter:replies\n",
    "#(@EY_Australia) lang:en until:2020-11-29 since:2020-01-01 -filter:replies\n",
    "#(@EY_UKI) lang:en until:2020-11-29 since:2020-01-01 -filter:replies\n",
    "#(@EY_Africa) lang:en until:2020-11-29 since:2020-01-01 -filter:replies\n",
    "#(@EYCanada) lang:en until:2020-11-29 since:2020-01-01 -filter:replies\n",
    "\n",
    "#For Good and Bad\n",
    "#(unhappy OR unsatisfied OR angry OR sad OR down OR disappointed OR miserable OR controversy OR sorry) (@EY OR @EY_India OR @EYnews OR @EY_EOY OR @EYPrivate OR @EYCanada OR @EY_PowerUtility OR @EY_Luxembourg OR @EY_TMT OR @EY_UKI OR @EY_people OR @EY_US OR @EY_Banking OR @EY_mena OR @EY_Tax OR @EY_Advisory OR @EYManufacturing OR @EY_Consulting OR @EY_Insurance) lang:en until:2020-11-29 since:2019-01-01 -filter:replies\n",
    "#(happy OR excited OR amazing OR glad OR peaceful OR impressed OR positive OR convinced OR grateful OR satisfied) (@EY OR @EY_India OR @EYnews OR @EY_TMT OR @EY_UKI OR @EY_people OR @EY_US OR @EY_Banking OR @EY_MENa OR @EY_Tax OR @EY_Advisory OR @EYManufacturing OR @EY_Consulting OR @EY_Insurance) lang:en until:2020-11-29 since:2019-01-01 -filter:replies\n",
    "\n",
    "#For Famous News Channel\n",
    "#EY (from:CNBC OR from:CNNNews18 OR from:TimesNow OR from:ETNOWlive OR from:BNNBloomberg OR from:livemint OR from:EconomicTimes OR from:moneycontrolcom OR from:bsindia OR from:FinancialTimes) until:2020-11-30 since:2018-01-01 -filter:replies\n",
    "#KPMG (from:CNBC OR from:CNNNews18 OR from:TimesNow OR from:ETNOWlive OR from:BNNBloomberg OR from:livemint OR from:EconomicTimes OR from:moneycontrolcom OR from:bsindia OR from:FinancialTimes) until:2020-11-30 since:2018-01-01 -filter:replies\n",
    "#PWC (from:CNBC OR from:CNNNews18 OR from:TimesNow OR from:ETNOWlive OR from:BNNBloomberg OR from:livemint OR from:EconomicTimes OR from:moneycontrolcom OR from:bsindia OR from:FinancialTimes) until:2020-11-30 since:2018-01-01 -filter:replies\n",
    "#Deloitte (from:CNBC OR from:CNNNews18 OR from:TimesNow OR from:ETNOWlive OR from:BNNBloomberg OR from:livemint OR from:EconomicTimes OR from:moneycontrolcom OR from:bsindia OR from:FinancialTimes) until:2020-11-30 since:2018-01-01 -filter:replies\n",
    "\n",
    "#for Events and Technology\n",
    "#(COVID OR corona) (@EY OR @EY_India OR @EYnews OR @EY_EOY OR @EYPrivate OR @EYCanada OR @EY_PowerUtility OR @EY_Luxembourg OR @EY_TMT OR @EY_UKI OR @EY_people OR @EY_US OR @EY_Banking OR @EY_mena OR @EY_Tax OR @EY_Advisory OR @EYManufacturing OR @EY_Consulting OR @EY_Insurance) lang:en until:2020-11-29 since:2020-01-01 -filter:replies\n",
    "#(\"Artificial Intelligence\" OR AI OR \"Data Science\" OR Blockchain OR \"Machine Learning\") (@EY OR @EY_India OR @EYnews OR @EY_EOY OR @EYPrivate OR @EYCanada OR @EY_PowerUtility OR @EY_Luxembourg OR @EY_TMT OR @EY_UKI OR @EY_people OR @EY_US OR @EY_Banking OR @EY_mena OR @EY_Tax OR @EY_Advisory OR @EYManufacturing OR @EY_Consulting OR @EY_Insurance) lang:en until:2020-11-29 since:2019-01-01 -filter:replies"
   ]
  },
  {
   "cell_type": "code",
   "execution_count": null,
   "metadata": {},
   "outputs": [],
   "source": [
    "#for comparision\n",
    "\n",
    "#geographical \n",
    "#(@PwC_IN) lang:en until:2020-11-29 since:2020-01-01 -filter:replies\n",
    "#(@PwC_AU) lang:en until:2020-11-29 since:2020-01-01 -filter:replies\n",
    "#(@PwC_UK) lang:en until:2020-11-29 since:2020-01-01 -filter:replies\n",
    "#(@PwCUS) lang:en until:2020-11-29 since:2020-01-01 -filter:replies\n",
    "#(@PwC_Canada) lang:en until:2020-11-29 since:2020-01-01 -filter:replies\n",
    "#(@PwCAfrica) lang:en until:2020-11-29 since:2020-01-01 -filter:replies\n",
    "\n",
    "#Similarly did all these for other two big4"
   ]
  },
  {
   "cell_type": "code",
   "execution_count": null,
   "metadata": {},
   "outputs": [],
   "source": [
    "#official twitter accounts\n",
    "#@PwC_IN OR @PwC OR @PwC_UK OR @PwCDigital OR @PwCUS OR @PwCAdvisory OR @PwCTax OR @PwCAssurance OR @PwCclimateready OR @pwc_ukgov OR @strategyand\n",
    "#@KPMG OR @KPMGIndia OR @KPMG_US OR @KPMGUS_News OR @kpmguk OR @KPMG_China OR @KPMGUS_Tax OR @KPMGAUTaxNow OR @KPMGAdvisory\n",
    "#@DeloitteIndia OR @DeloitteAcctg OR @DeloitteUS OR @lifeatdeloitte OR @DeloitteDigital OR @DeloitteOnTech OR @DeloitteFinSvc OR @DeloitteTMT OR DeloitteRiskFin OR @DeloitteTax OR @DeloitteStratOp"
   ]
  },
  {
   "cell_type": "code",
   "execution_count": null,
   "metadata": {},
   "outputs": [],
   "source": [
    "#for sentiment analysis of other big 4\n",
    "#(unhappy OR unsatisfied OR angry OR sad OR down OR disappointed OR miserable OR controversy OR sorry) (@PwC_IN OR @PwC OR @PwC_UK OR @PwCDigital OR @PwCUS OR @PwCAdvisory OR @PwCTax OR @PwCAssurance OR @PwCclimateready OR @pwc_ukgov OR @strategyand) lang:en until:2020-11-29 since:2019-01-01 -filter:replies\n",
    "#(happy OR excited OR amazing OR glad OR peaceful OR impressed OR positive OR convinced OR grateful OR satisfied) (@PwC_IN OR @PwC OR @PwC_UK OR @PwCDigital OR @PwCUS OR @PwCAdvisory OR @PwCTax OR @PwCAssurance OR @PwCclimateready OR @pwc_ukgov OR @strategyand) lang:en until:2020-11-29 since:2019-01-01 -filter:replies\n",
    "#(unhappy OR unsatisfied OR angry OR sad OR down OR disappointed OR miserable OR controversy OR sorry) (@KPMG OR @KPMGIndia OR @KPMG_US OR @KPMGUS_News OR @kpmguk OR @KPMG_China OR @KPMGUS_Tax OR @KPMGAUTaxNow OR @KPMGAdvisory) lang:en until:2020-11-29 since:2019-01-01 -filter:replies\n",
    "#(happy OR excited OR amazing OR glad OR peaceful OR impressed OR positive OR convinced OR grateful OR satisfied) (@KPMG OR @KPMGIndia OR @KPMG_US OR @KPMGUS_News OR @kpmguk OR @KPMG_China OR @KPMGUS_Tax OR @KPMGAUTaxNow OR @KPMGAdvisory) lang:en until:2020-11-29 since:2019-01-01 -filter:replies\n",
    "#(unhappy OR unsatisfied OR angry OR sad OR down OR disappointed OR miserable OR controversy OR sorry) (@DeloitteIndia OR @DeloitteAcctg OR @DeloitteUS OR @lifeatdeloitte OR @DeloitteDigital OR @DeloitteOnTech OR @DeloitteFinSvc OR @DeloitteTMT OR DeloitteRiskFin OR @DeloitteTax OR @DeloitteStratOp) lang:en until:2020-11-29 since:2019-01-01 -filter:replies\n",
    "#(happy OR excited OR amazing OR glad OR peaceful OR impressed OR positive OR convinced OR grateful OR satisfied) (@DeloitteIndia OR @DeloitteAcctg OR @DeloitteUS OR @lifeatdeloitte OR @DeloitteDigital OR @DeloitteOnTech OR @DeloitteFinSvc OR @DeloitteTMT OR DeloitteRiskFin OR @DeloitteTax OR @DeloitteStratOp) lang:en until:2020-11-29 since:2019-01-01 -filter:replies\n"
   ]
  },
  {
   "cell_type": "code",
   "execution_count": null,
   "metadata": {},
   "outputs": [],
   "source": [
    "#tweets with Big4 in it \n",
    "(#Big4) lang:en until:2020-11-30 since:2020-01-01 -filter:replies\n",
    "    \n",
    "#for services of Other Big4\n",
    "#PWC (Strategy OR Transactions) lang:en until:2020-11-29 since:2019-01-01 -filter:replies\n",
    "#PWC Banking lang:en until:2020-11-29 since:2019-01-01 -filter:replies\n",
    "#PWC Tax lang:en until:2020-11-29 since:2019-01-01 -filter:replies\n",
    "#PWC Assurance lang:en until:2020-11-29 since:2019-01-01 -filter:replies\n",
    "#PWC Consultancy lang:en until:2020-11-29 since:2019-01-01 -filter:replies\n",
    "    \n",
    "#similarly done for all BIG4"
   ]
  }
 ],
 "metadata": {
  "kernelspec": {
   "display_name": "Python 3",
   "language": "python",
   "name": "python3"
  },
  "language_info": {
   "codemirror_mode": {
    "name": "ipython",
    "version": 3
   },
   "file_extension": ".py",
   "mimetype": "text/x-python",
   "name": "python",
   "nbconvert_exporter": "python",
   "pygments_lexer": "ipython3",
   "version": "3.7.1"
  }
 },
 "nbformat": 4,
 "nbformat_minor": 4
}
